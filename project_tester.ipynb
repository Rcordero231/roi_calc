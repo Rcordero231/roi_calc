{
 "cells": [
  {
   "cell_type": "code",
   "execution_count": 35,
   "metadata": {},
   "outputs": [],
   "source": [
    "class ROI:\n",
    "\n",
    "    # list all variables and how we can calculate them.\n",
    "    # \n",
    "    # Income = rental income + Laundry income + storage income + misc. income\n",
    "    # \n",
    "    # \n",
    "    # Expenses(monthly) = tax + insurance + utilities(extra calc) + HOA + lawn/snow removal + repairs + capital_expendetures + property_management(= 10% of rent) + mortage \n",
    "    # \n",
    "    # Cash_flow = income - expenses\n",
    "    # Annual_Cash_flow = Cashflow *12 \n",
    "    # \n",
    "    # Cash_on_cash Return on Investment = Annual_cash_flow /Total_Investment\n",
    "    # Total_Investment = Down_Payment + Closing_costs + rehab_budget + misc.\n",
    "    # \n",
    "    # insert all needed variables into the init\n",
    "    def __init__(self, name):\n",
    "        self.name = name\n",
    "        self.income = 0\n",
    "        self.total_expense = 0\n",
    "        self.total_invest = 0\n",
    "\n",
    "    # Allow user to input income, if not run this function.\n",
    "    # Income = rental income + Laundry income + storage income + misc. income\n",
    "    # User inputs numbers to run calc\n",
    "    def income_known(self):\n",
    "        total_monthly = 0\n",
    "        total_monthly += float(input('Please enter your Total Monthly Income for the property (DO NOT USE \",\"): '))\n",
    "        self.income = total_monthly *12\n",
    "        print(f'{self.name} your monthly income of ${total_monthly} adds up to ${self.income} annually, and has been added to the calculator')\n",
    "\n",
    "    def expenses(self):\n",
    "        month_expense = 0\n",
    "        month_expense += float(input('Please enter your Total Monthly Expenses for the property (DO NOT USE \",\"): '))\n",
    "        self.total_expense += month_expense *12\n",
    "        print(f'{self.name} your monthly expenses of ${month_expense} adds up to ${self.total_expense} annually, and has been added to the calculator')\n",
    "\n",
    "    def total_investment(self):\n",
    "        money_invested = 0\n",
    "        money_invested += float(input('Please enter the total amount of money you invested into the property (DO NOT USE \",\"): '))\n",
    "        self.total_invest += money_invested\n",
    "        print(f'{self.name} your total investment of ${self.total_invest} has been added to the calculator')\n",
    "\n",
    "    def final_calc(self):\n",
    "        total_cashflow = self.income - self.total_expense\n",
    "        return_on_inv = float(total_cashflow/self.total_invest) *100\n",
    "        print(f'Congrates {self.name}, you can expect an {return_on_inv}% Return On Investment with this property')\n"
   ]
  },
  {
   "cell_type": "code",
   "execution_count": null,
   "metadata": {},
   "outputs": [],
   "source": []
  },
  {
   "cell_type": "code",
   "execution_count": 30,
   "metadata": {},
   "outputs": [],
   "source": [
    "def main():\n",
    "    print(\"Welcome to the ROI Calculator!!!!\")\n",
    "    name = input('To being calculating your ROI please enter your first name')\n",
    "    roi = ROI(name)\n",
    "    print('''For this calculator you will need to enter your Income, Expenses, and Total Investment or enter Stop\n",
    "    \n",
    "    Once you have gone through all the prompts enter DONE to recieve your final Return On Investment''')\n",
    "    while True:\n",
    "        choice = input('Please enter which you would like to input (Income, Expenses, or Total Investment): ').title()\n",
    "        while choice not in {'Income', 'Expenses', 'Total Investment', 'Stop', 'Done'}:\n",
    "            choice = input('Invaild Option. Please enter Income, Expenses, or Total Investment to proceed or enter STOP to close application: ').title()\n",
    "        if choice == 'Stop':\n",
    "            print('Thank you for using ROI Calculator, Goodbye!')\n",
    "            break\n",
    "\n",
    "        elif choice == 'Income':\n",
    "            roi.income_known()\n",
    "\n",
    "        elif choice == 'Expenses':\n",
    "            roi.expenses()\n",
    "\n",
    "        elif choice == 'Total Investment':\n",
    "            roi.total_investment()\n",
    "\n",
    "        elif choice == 'Done':\n",
    "            roi.final_calc()\n",
    "            break"
   ]
  },
  {
   "cell_type": "code",
   "execution_count": 36,
   "metadata": {},
   "outputs": [
    {
     "name": "stdout",
     "output_type": "stream",
     "text": [
      "Welcome to the ROI Calculator!!!!\n",
      "For this calculator you will need to enter your Income, Expenses, and Total Investment or enter Stop\n",
      "            Once you have gone through all the prompts enter DONE to recieve your final Return On Investment\n",
      "Ricardo your monthly expenses of $1610.0 adds up to $19320.0 annually, and has been added to the calculator\n",
      "For this calculator you will need to enter your Income, Expenses, and Total Investment or enter Stop\n",
      "            Once you have gone through all the prompts enter DONE to recieve your final Return On Investment\n",
      "Ricardo your monthly income of $2000.0 adds up to $24000.0 annually, and has been added to the calculator\n",
      "For this calculator you will need to enter your Income, Expenses, and Total Investment or enter Stop\n",
      "            Once you have gone through all the prompts enter DONE to recieve your final Return On Investment\n",
      "Ricardo your total investment of $50000.0 has been added to the calculator\n",
      "For this calculator you will need to enter your Income, Expenses, and Total Investment or enter Stop\n",
      "            Once you have gone through all the prompts enter DONE to recieve your final Return On Investment\n",
      "Congrates Ricardo, you can expect an 9.36% Return On Investment with this property\n"
     ]
    }
   ],
   "source": [
    "main()"
   ]
  }
 ],
 "metadata": {
  "kernelspec": {
   "display_name": "Python 3",
   "language": "python",
   "name": "python3"
  },
  "language_info": {
   "codemirror_mode": {
    "name": "ipython",
    "version": 3
   },
   "file_extension": ".py",
   "mimetype": "text/x-python",
   "name": "python",
   "nbconvert_exporter": "python",
   "pygments_lexer": "ipython3",
   "version": "3.12.0"
  }
 },
 "nbformat": 4,
 "nbformat_minor": 2
}
