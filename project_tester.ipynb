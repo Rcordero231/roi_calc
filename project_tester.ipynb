{
 "cells": [
  {
   "cell_type": "code",
   "execution_count": 4,
   "metadata": {},
   "outputs": [],
   "source": [
    "class ROI:\n",
    "\n",
    "    # list all variables and how we can calculate them.\n",
    "    # \n",
    "    # Income = rental income + Laundry income + storage income + misc. income\n",
    "    # \n",
    "    # \n",
    "    # Expenses(monthly) = tax + insurance + utilities(extra calc) + HOA + lawn/snow removal + repairs + capital_expendetures + property_management(= 10% of rent) + mortage \n",
    "    # \n",
    "    # Cash_flow = income - expenses\n",
    "    # Annual_Cash_flow = Cashflow *12 \n",
    "    # \n",
    "    # Cash_on_cash Return on Investment = Annual_cash_flow /Total_Investment\n",
    "    # Total_Investment = Down_Payment + Closing_costs + rehab_budget + misc.\n",
    "    # \n",
    "    # insert all needed variables into the init\n",
    "    def __init__(self, income, expenses, tax, insurance, utilities, hoa, ls_removal, repairs, capital_expend, property_mang, mortage, cash_flow, annual_cash_flow, total_investment, down_payment, closing_costs, rehab_budget, misc_inv):\n",
    "        \n",
    "        self.income = income\n",
    "        self.expenses = expenses\n",
    "        self.tax = tax\n",
    "        self.insurance = insurance\n",
    "        self.utilities = utilities\n",
    "        self.hoa = hoa\n",
    "        self.ls_removal = ls_removal\n",
    "        self.repairs = repairs\n",
    "        self.capital_expend = capital_expend\n",
    "        self.property_mang = property_mang\n",
    "        self.mortage = mortage\n",
    "        self.cash_flow = cash_flow\n",
    "        self.annual_cash_flow = annual_cash_flow\n",
    "        self.total_investment = total_investment\n",
    "        self.down_payment = down_payment\n",
    "        self.closing_cost = closing_costs\n",
    "        self.rehab_budget = rehab_budget\n",
    "        self.misc_inv = misc_inv"
   ]
  },
  {
   "cell_type": "code",
   "execution_count": null,
   "metadata": {},
   "outputs": [],
   "source": [
    "    "
   ]
  },
  {
   "cell_type": "code",
   "execution_count": 4,
   "metadata": {},
   "outputs": [],
   "source": [
    "   # Allow user to input income, if not run this function.\n",
    "   # Income = rental income + Laundry income + storage income + misc. income\n",
    "   # User inputs numbers to run calc\n",
    "def income_calc(self):\n",
    "    tot_mon_income = []\n",
    "    choice1 = input('Do you know the Total Monthly income you recieve from the property? Y/N ').capitalize()\n",
    "    while choice1 not in {'Y', 'N',}:\n",
    "            choice1 = input('Invaild Option. Please choose Y or N: ').capitalize()\n",
    "    if choice1 == 'Y':\n",
    "        income = input('Please enter your Total Monthly Income for the property (do not use \",\") : ')\n",
    "        tot_mon_income.append(income)\n",
    "        print('Your income has been added to the calculator, pls follow the other prompts')\n",
    "\n",
    "    if choice1 == 'N':\n",
    "        income = input('Please enter all income associated with the property (example: 2500, 200, 400): ')\n",
    "        tot_mon_income.append(income)\n",
    "                "
   ]
  },
  {
   "cell_type": "code",
   "execution_count": 5,
   "metadata": {},
   "outputs": [
    {
     "ename": "TypeError",
     "evalue": "income_calc() missing 1 required positional argument: 'self'",
     "output_type": "error",
     "traceback": [
      "\u001b[1;31m---------------------------------------------------------------------------\u001b[0m",
      "\u001b[1;31mTypeError\u001b[0m                                 Traceback (most recent call last)",
      "\u001b[1;32mc:\\Users\\Ricky\\Documents\\coding-temple\\week3\\roi_project_test\\project_tester.ipynb Cell 4\u001b[0m line \u001b[0;36m1\n\u001b[1;32m----> <a href='vscode-notebook-cell:/c%3A/Users/Ricky/Documents/coding-temple/week3/roi_project_test/project_tester.ipynb#W3sZmlsZQ%3D%3D?line=0'>1</a>\u001b[0m income_calc()\n",
      "\u001b[1;31mTypeError\u001b[0m: income_calc() missing 1 required positional argument: 'self'"
     ]
    }
   ],
   "source": []
  },
  {
   "cell_type": "code",
   "execution_count": null,
   "metadata": {},
   "outputs": [],
   "source": []
  },
  {
   "cell_type": "code",
   "execution_count": null,
   "metadata": {},
   "outputs": [],
   "source": []
  },
  {
   "cell_type": "code",
   "execution_count": null,
   "metadata": {},
   "outputs": [],
   "source": []
  },
  {
   "cell_type": "code",
   "execution_count": 1,
   "metadata": {},
   "outputs": [
    {
     "ename": "IndentationError",
     "evalue": "unexpected indent (2946169603.py, line 17)",
     "output_type": "error",
     "traceback": [
      "\u001b[1;36m  Cell \u001b[1;32mIn[1], line 17\u001b[1;36m\u001b[0m\n\u001b[1;33m    choice1 = ('Invaild Option. Please enter Y or N to proceed')\u001b[0m\n\u001b[1;37m    ^\u001b[0m\n\u001b[1;31mIndentationError\u001b[0m\u001b[1;31m:\u001b[0m unexpected indent\n"
     ]
    }
   ],
   "source": [
    "    def main():\n",
    "        print(\"Welcome to the ROI Calculator!!!!\")\n",
    "        annual_cash_flow = []\n",
    "\n",
    "\n",
    "        while True:\n",
    "            print('For this calculator you will need to enter your Income, Expenses, and Cash Flow or enter Stop')\n",
    "            choice = input('Please enter which you would like to input first (Income, Expenses, or Cash Flow): ').title()\n",
    "            while choice not in {'Income', 'Expenses', 'Cash Flow', 'Stop'}:\n",
    "                choice = input('Invaild Option. Please enter Income, Expenses, or Cash Flow to proceed or enter STOP to close application: ')\n",
    "            if choice == 'Stop':\n",
    "                print('Thank you for using ROI Calculator, Goodbye!')\n",
    "                break\n",
    "\n",
    "            elif choice == 'Income':\n",
    "                choice1 = input('Do you know the Total Monthly income you recieve from the property? Y/N ').capitalize()\n",
    "                if choice1 == 'Y':\n",
    "                    income = input('Please enter your Total Monthly Income for the property (do not use \",\") : ')\n",
    "                    annual_cash_flow.append(income)\n",
    "                    print('Your income has been added to the calculator, pls follow the other prompts')\n",
    "\n",
    "                if choice1 == 'N':\n",
    "                    income = input('Please enter all income associated with the property (example: 2500, 200, 400): ')\n",
    "                    total_monthly_income = annual_cash_flow.income_calc(income)\n",
    "                    print(annual_cash_flow)\n",
    "\n",
    "\n"
   ]
  },
  {
   "cell_type": "code",
   "execution_count": 5,
   "metadata": {},
   "outputs": [
    {
     "name": "stdout",
     "output_type": "stream",
     "text": [
      "Welcome to the ROI Calculator!!!!\n",
      "For this calculator you will need to enter your Income, Expenses, and Cash Flow or enter Stop\n"
     ]
    }
   ],
   "source": [
    "main()"
   ]
  }
 ],
 "metadata": {
  "kernelspec": {
   "display_name": "Python 3",
   "language": "python",
   "name": "python3"
  },
  "language_info": {
   "codemirror_mode": {
    "name": "ipython",
    "version": 3
   },
   "file_extension": ".py",
   "mimetype": "text/x-python",
   "name": "python",
   "nbconvert_exporter": "python",
   "pygments_lexer": "ipython3",
   "version": "3.12.0"
  }
 },
 "nbformat": 4,
 "nbformat_minor": 2
}
